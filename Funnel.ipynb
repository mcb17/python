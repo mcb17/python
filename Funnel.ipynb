{
 "cells": [
  {
   "cell_type": "markdown",
   "metadata": {},
   "source": [
    "## Téléchargement du fichier et des librairies"
   ]
  },
  {
   "cell_type": "code",
   "execution_count": 1,
   "metadata": {},
   "outputs": [],
   "source": [
    "import pandas as pd\n",
    "import seaborn as sns\n",
    "import numpy as np\n",
    "import os\n",
    "\n",
    "funnel = pd.read_csv('/Users/marie-christine/Documents/mooc/funnel.csv', sep=',')"
   ]
  },
  {
   "cell_type": "code",
   "execution_count": null,
   "metadata": {},
   "outputs": [],
   "source": [
    "# Infos sur le dataFrame"
   ]
  },
  {
   "cell_type": "code",
   "execution_count": 11,
   "metadata": {},
   "outputs": [
    {
     "name": "stdout",
     "output_type": "stream",
     "text": [
      "<class 'pandas.core.frame.DataFrame'>\n",
      "RangeIndex: 91466 entries, 0 to 91465\n",
      "Data columns (total 11 columns):\n",
      "date                              91466 non-null int64\n",
      "visitId                           91466 non-null int64\n",
      "fullVisitorId                     91466 non-null int64\n",
      "hits_time                         91466 non-null int64\n",
      "hits_page_pagePath                91466 non-null object\n",
      "hits_type                         91466 non-null object\n",
      "hits_eventInfo_eventCategory      52257 non-null object\n",
      "hits_item_transactionId           645 non-null object\n",
      "hits_product_v2ProductName        20386 non-null object\n",
      "hits_product_v2ProductCategory    20386 non-null object\n",
      "hits_product_productQuantity      11115 non-null float64\n",
      "dtypes: float64(1), int64(4), object(6)\n",
      "memory usage: 7.7+ MB\n"
     ]
    }
   ],
   "source": [
    "funnel.info()"
   ]
  },
  {
   "cell_type": "code",
   "execution_count": null,
   "metadata": {},
   "outputs": [],
   "source": []
  },
  {
   "cell_type": "code",
   "execution_count": null,
   "metadata": {},
   "outputs": [],
   "source": []
  }
 ],
 "metadata": {
  "kernelspec": {
   "display_name": "Python 3",
   "language": "python",
   "name": "python3"
  },
  "language_info": {
   "codemirror_mode": {
    "name": "ipython",
    "version": 3
   },
   "file_extension": ".py",
   "mimetype": "text/x-python",
   "name": "python",
   "nbconvert_exporter": "python",
   "pygments_lexer": "ipython3",
   "version": "3.6.5"
  }
 },
 "nbformat": 4,
 "nbformat_minor": 2
}
