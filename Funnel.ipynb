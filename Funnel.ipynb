{
 "cells": [
  {
   "cell_type": "markdown",
   "metadata": {},
   "source": [
    "## Téléchargement du fichier et des librairies"
   ]
  },
  {
   "cell_type": "code",
   "execution_count": 53,
   "metadata": {},
   "outputs": [],
   "source": [
    "import pandas as pd\n",
    "import seaborn as sns\n",
    "import numpy as np\n",
    "import os\n",
    "\n",
    "funnel = pd.read_csv('/Users/marie-christine/Documents/mooc/funnel.csv', sep=',')"
   ]
  },
  {
   "cell_type": "markdown",
   "metadata": {},
   "source": [
    "#### Infos sur le dataFrame"
   ]
  },
  {
   "cell_type": "code",
   "execution_count": 54,
   "metadata": {},
   "outputs": [
    {
     "name": "stdout",
     "output_type": "stream",
     "text": [
      "<class 'pandas.core.frame.DataFrame'>\n",
      "RangeIndex: 91466 entries, 0 to 91465\n",
      "Data columns (total 11 columns):\n",
      "date                              91466 non-null int64\n",
      "visitId                           91466 non-null int64\n",
      "fullVisitorId                     91466 non-null int64\n",
      "hits_time                         91466 non-null int64\n",
      "hits_page_pagePath                91466 non-null object\n",
      "hits_type                         91466 non-null object\n",
      "hits_eventInfo_eventCategory      52257 non-null object\n",
      "hits_item_transactionId           645 non-null object\n",
      "hits_product_v2ProductName        20386 non-null object\n",
      "hits_product_v2ProductCategory    20386 non-null object\n",
      "hits_product_productQuantity      11115 non-null float64\n",
      "dtypes: float64(1), int64(4), object(6)\n",
      "memory usage: 7.7+ MB\n",
      "None\n"
     ]
    }
   ],
   "source": [
    "print(funnel.info())"
   ]
  },
  {
   "cell_type": "code",
   "execution_count": 55,
   "metadata": {},
   "outputs": [
    {
     "data": {
      "text/html": [
       "<div>\n",
       "<style scoped>\n",
       "    .dataframe tbody tr th:only-of-type {\n",
       "        vertical-align: middle;\n",
       "    }\n",
       "\n",
       "    .dataframe tbody tr th {\n",
       "        vertical-align: top;\n",
       "    }\n",
       "\n",
       "    .dataframe thead th {\n",
       "        text-align: right;\n",
       "    }\n",
       "</style>\n",
       "<table border=\"1\" class=\"dataframe\">\n",
       "  <thead>\n",
       "    <tr style=\"text-align: right;\">\n",
       "      <th></th>\n",
       "      <th>date</th>\n",
       "      <th>visitId</th>\n",
       "      <th>fullVisitorId</th>\n",
       "      <th>hits_time</th>\n",
       "      <th>hits_page_pagePath</th>\n",
       "      <th>hits_type</th>\n",
       "      <th>hits_eventInfo_eventCategory</th>\n",
       "      <th>hits_item_transactionId</th>\n",
       "      <th>hits_product_v2ProductName</th>\n",
       "      <th>hits_product_v2ProductCategory</th>\n",
       "      <th>hits_product_productQuantity</th>\n",
       "    </tr>\n",
       "  </thead>\n",
       "  <tbody>\n",
       "    <tr>\n",
       "      <th>0</th>\n",
       "      <td>20180703</td>\n",
       "      <td>1530622884</td>\n",
       "      <td>1593920987084845987</td>\n",
       "      <td>0</td>\n",
       "      <td>/Boutique/Boutique_web/Acquisition/Forfaits_sa...</td>\n",
       "      <td>PAGE</td>\n",
       "      <td>NaN</td>\n",
       "      <td>NaN</td>\n",
       "      <td>NaN</td>\n",
       "      <td>NaN</td>\n",
       "      <td>NaN</td>\n",
       "    </tr>\n",
       "    <tr>\n",
       "      <th>1</th>\n",
       "      <td>20180703</td>\n",
       "      <td>1530622884</td>\n",
       "      <td>1593920987084845987</td>\n",
       "      <td>38320</td>\n",
       "      <td>/Boutique/Boutique_web/Acquisition/BYOU2H_50Mo...</td>\n",
       "      <td>PAGE</td>\n",
       "      <td>NaN</td>\n",
       "      <td>NaN</td>\n",
       "      <td>NaN</td>\n",
       "      <td>NaN</td>\n",
       "      <td>NaN</td>\n",
       "    </tr>\n",
       "    <tr>\n",
       "      <th>2</th>\n",
       "      <td>20180703</td>\n",
       "      <td>1530622884</td>\n",
       "      <td>1593920987084845987</td>\n",
       "      <td>38543</td>\n",
       "      <td>/Boutique/Boutique_web/Acquisition/BYOU2H_50Mo...</td>\n",
       "      <td>EVENT</td>\n",
       "      <td>engagement</td>\n",
       "      <td>NaN</td>\n",
       "      <td>NaN</td>\n",
       "      <td>NaN</td>\n",
       "      <td>NaN</td>\n",
       "    </tr>\n",
       "    <tr>\n",
       "      <th>3</th>\n",
       "      <td>20180703</td>\n",
       "      <td>1530622884</td>\n",
       "      <td>1593920987084845987</td>\n",
       "      <td>38543</td>\n",
       "      <td>/Boutique/Boutique_web/Acquisition/BYOU2H_50Mo...</td>\n",
       "      <td>EVENT</td>\n",
       "      <td>AB Tasty</td>\n",
       "      <td>NaN</td>\n",
       "      <td>NaN</td>\n",
       "      <td>NaN</td>\n",
       "      <td>NaN</td>\n",
       "    </tr>\n",
       "    <tr>\n",
       "      <th>4</th>\n",
       "      <td>20180703</td>\n",
       "      <td>1530622884</td>\n",
       "      <td>1593920987084845987</td>\n",
       "      <td>38544</td>\n",
       "      <td>/Boutique/Boutique_web/Acquisition/BYOU2H_50Mo...</td>\n",
       "      <td>EVENT</td>\n",
       "      <td>technique</td>\n",
       "      <td>NaN</td>\n",
       "      <td>NaN</td>\n",
       "      <td>NaN</td>\n",
       "      <td>NaN</td>\n",
       "    </tr>\n",
       "  </tbody>\n",
       "</table>\n",
       "</div>"
      ],
      "text/plain": [
       "       date     visitId        fullVisitorId  hits_time  \\\n",
       "0  20180703  1530622884  1593920987084845987          0   \n",
       "1  20180703  1530622884  1593920987084845987      38320   \n",
       "2  20180703  1530622884  1593920987084845987      38543   \n",
       "3  20180703  1530622884  1593920987084845987      38543   \n",
       "4  20180703  1530622884  1593920987084845987      38544   \n",
       "\n",
       "                                  hits_page_pagePath hits_type  \\\n",
       "0  /Boutique/Boutique_web/Acquisition/Forfaits_sa...      PAGE   \n",
       "1  /Boutique/Boutique_web/Acquisition/BYOU2H_50Mo...      PAGE   \n",
       "2  /Boutique/Boutique_web/Acquisition/BYOU2H_50Mo...     EVENT   \n",
       "3  /Boutique/Boutique_web/Acquisition/BYOU2H_50Mo...     EVENT   \n",
       "4  /Boutique/Boutique_web/Acquisition/BYOU2H_50Mo...     EVENT   \n",
       "\n",
       "  hits_eventInfo_eventCategory hits_item_transactionId  \\\n",
       "0                          NaN                     NaN   \n",
       "1                          NaN                     NaN   \n",
       "2                   engagement                     NaN   \n",
       "3                     AB Tasty                     NaN   \n",
       "4                    technique                     NaN   \n",
       "\n",
       "  hits_product_v2ProductName hits_product_v2ProductCategory  \\\n",
       "0                        NaN                            NaN   \n",
       "1                        NaN                            NaN   \n",
       "2                        NaN                            NaN   \n",
       "3                        NaN                            NaN   \n",
       "4                        NaN                            NaN   \n",
       "\n",
       "   hits_product_productQuantity  \n",
       "0                           NaN  \n",
       "1                           NaN  \n",
       "2                           NaN  \n",
       "3                           NaN  \n",
       "4                           NaN  "
      ]
     },
     "execution_count": 55,
     "metadata": {},
     "output_type": "execute_result"
    }
   ],
   "source": [
    "funnel.head()"
   ]
  },
  {
   "cell_type": "markdown",
   "metadata": {},
   "source": [
    "#### changement du format date"
   ]
  },
  {
   "cell_type": "code",
   "execution_count": 56,
   "metadata": {},
   "outputs": [],
   "source": [
    "funnel['date'] = pd.to_datetime(funnel['date'])"
   ]
  },
  {
   "cell_type": "markdown",
   "metadata": {},
   "source": [
    "#### suppression des colonnes inutiles"
   ]
  },
  {
   "cell_type": "code",
   "execution_count": 57,
   "metadata": {},
   "outputs": [],
   "source": [
    "funnel = funnel.drop(funnel.columns[6:], axis =1)"
   ]
  },
  {
   "cell_type": "code",
   "execution_count": 58,
   "metadata": {},
   "outputs": [
    {
     "data": {
      "text/html": [
       "<div>\n",
       "<style scoped>\n",
       "    .dataframe tbody tr th:only-of-type {\n",
       "        vertical-align: middle;\n",
       "    }\n",
       "\n",
       "    .dataframe tbody tr th {\n",
       "        vertical-align: top;\n",
       "    }\n",
       "\n",
       "    .dataframe thead th {\n",
       "        text-align: right;\n",
       "    }\n",
       "</style>\n",
       "<table border=\"1\" class=\"dataframe\">\n",
       "  <thead>\n",
       "    <tr style=\"text-align: right;\">\n",
       "      <th></th>\n",
       "      <th>date</th>\n",
       "      <th>visitId</th>\n",
       "      <th>fullVisitorId</th>\n",
       "      <th>hits_time</th>\n",
       "      <th>hits_page_pagePath</th>\n",
       "      <th>hits_type</th>\n",
       "    </tr>\n",
       "  </thead>\n",
       "  <tbody>\n",
       "    <tr>\n",
       "      <th>0</th>\n",
       "      <td>1970-01-01 00:00:00.020180703</td>\n",
       "      <td>1530622884</td>\n",
       "      <td>1593920987084845987</td>\n",
       "      <td>0</td>\n",
       "      <td>/Boutique/Boutique_web/Acquisition/Forfaits_sa...</td>\n",
       "      <td>PAGE</td>\n",
       "    </tr>\n",
       "    <tr>\n",
       "      <th>1</th>\n",
       "      <td>1970-01-01 00:00:00.020180703</td>\n",
       "      <td>1530622884</td>\n",
       "      <td>1593920987084845987</td>\n",
       "      <td>38320</td>\n",
       "      <td>/Boutique/Boutique_web/Acquisition/BYOU2H_50Mo...</td>\n",
       "      <td>PAGE</td>\n",
       "    </tr>\n",
       "    <tr>\n",
       "      <th>2</th>\n",
       "      <td>1970-01-01 00:00:00.020180703</td>\n",
       "      <td>1530622884</td>\n",
       "      <td>1593920987084845987</td>\n",
       "      <td>38543</td>\n",
       "      <td>/Boutique/Boutique_web/Acquisition/BYOU2H_50Mo...</td>\n",
       "      <td>EVENT</td>\n",
       "    </tr>\n",
       "    <tr>\n",
       "      <th>3</th>\n",
       "      <td>1970-01-01 00:00:00.020180703</td>\n",
       "      <td>1530622884</td>\n",
       "      <td>1593920987084845987</td>\n",
       "      <td>38543</td>\n",
       "      <td>/Boutique/Boutique_web/Acquisition/BYOU2H_50Mo...</td>\n",
       "      <td>EVENT</td>\n",
       "    </tr>\n",
       "    <tr>\n",
       "      <th>4</th>\n",
       "      <td>1970-01-01 00:00:00.020180703</td>\n",
       "      <td>1530622884</td>\n",
       "      <td>1593920987084845987</td>\n",
       "      <td>38544</td>\n",
       "      <td>/Boutique/Boutique_web/Acquisition/BYOU2H_50Mo...</td>\n",
       "      <td>EVENT</td>\n",
       "    </tr>\n",
       "  </tbody>\n",
       "</table>\n",
       "</div>"
      ],
      "text/plain": [
       "                           date     visitId        fullVisitorId  hits_time  \\\n",
       "0 1970-01-01 00:00:00.020180703  1530622884  1593920987084845987          0   \n",
       "1 1970-01-01 00:00:00.020180703  1530622884  1593920987084845987      38320   \n",
       "2 1970-01-01 00:00:00.020180703  1530622884  1593920987084845987      38543   \n",
       "3 1970-01-01 00:00:00.020180703  1530622884  1593920987084845987      38543   \n",
       "4 1970-01-01 00:00:00.020180703  1530622884  1593920987084845987      38544   \n",
       "\n",
       "                                  hits_page_pagePath hits_type  \n",
       "0  /Boutique/Boutique_web/Acquisition/Forfaits_sa...      PAGE  \n",
       "1  /Boutique/Boutique_web/Acquisition/BYOU2H_50Mo...      PAGE  \n",
       "2  /Boutique/Boutique_web/Acquisition/BYOU2H_50Mo...     EVENT  \n",
       "3  /Boutique/Boutique_web/Acquisition/BYOU2H_50Mo...     EVENT  \n",
       "4  /Boutique/Boutique_web/Acquisition/BYOU2H_50Mo...     EVENT  "
      ]
     },
     "execution_count": 58,
     "metadata": {},
     "output_type": "execute_result"
    }
   ],
   "source": [
    "funnel.head()"
   ]
  }
 ],
 "metadata": {
  "kernelspec": {
   "display_name": "Python 3",
   "language": "python",
   "name": "python3"
  },
  "language_info": {
   "codemirror_mode": {
    "name": "ipython",
    "version": 3
   },
   "file_extension": ".py",
   "mimetype": "text/x-python",
   "name": "python",
   "nbconvert_exporter": "python",
   "pygments_lexer": "ipython3",
   "version": "3.6.5"
  }
 },
 "nbformat": 4,
 "nbformat_minor": 2
}
